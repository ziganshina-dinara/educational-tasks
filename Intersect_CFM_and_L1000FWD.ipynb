{
 "cells": [
  {
   "cell_type": "code",
   "execution_count": 2,
   "metadata": {},
   "outputs": [
    {
     "name": "stderr",
     "output_type": "stream",
     "text": [
      "RDKit WARNING: [16:19:49] Enabling RDKit 2019.09.1 jupyter extensions\n"
     ]
    }
   ],
   "source": [
    "import numpy as np\n",
    "import pandas as pd\n",
    "import seaborn as sns\n",
    "import urllib.request # make request for get smiles of compounds from CFM\n",
    "\n",
    "from rdkit import Chem, RDLogger, DataStructs \n",
    "from rdkit.Chem import Descriptors, AllChem, MACCSkeys, Draw\n",
    "from rdkit.Chem.rdmolfiles import SmilesMolSupplier, ForwardSDMolSupplier\n",
    "from rdkit.Chem.Draw import IPythonConsole\n",
    "from IPython.display import Image\n",
    "\n",
    "from rdkit import RDLogger\n",
    "RDLogger.DisableLog('rdApp.*')"
   ]
  },
  {
   "cell_type": "code",
   "execution_count": 3,
   "metadata": {},
   "outputs": [],
   "source": [
    "class Molecule:\n",
    "    def __init__(self, cid, name, smiles, database):\n",
    "        self.cid = cid\n",
    "        self.name = name\n",
    "        self.smiles = smiles\n",
    "        self.database = database\n",
    "        self.mol = Chem.MolFromSmiles(self.smiles)\n",
    "\n",
    "        \n",
    "    def get_RDKFingerprint(self):\n",
    "        return Chem.RDKFingerprint(self.mol)\n",
    "    \n",
    "    def get_MACCSKeys(self):\n",
    "        return MACCSkeys.GenMACCSKeys(self.mol)\n",
    "    \n",
    "    def getMorganFingerprint(self):\n",
    "        return AllChem.GetMorganFingerprintAsBitVect(self.mol, 2, nBits = 1024)"
   ]
  },
  {
   "cell_type": "code",
   "execution_count": 4,
   "metadata": {},
   "outputs": [],
   "source": [
    "class Pair:\n",
    "    def __init__(self, first_compound, second_compound):\n",
    "        self.first_compound = first_compound\n",
    "        self.second_compound = second_compound\n",
    "        \n",
    "    def get_simmilarity_using_RDKFingerprint(self):\n",
    "        RDKFingerprint_first_compound = self.first_compound.get_RDKFingerprint()\n",
    "        RDKFingerprint_second_compound = self.second_compound.get_RDKFingerprint()\n",
    "        return DataStructs.FingerprintSimilarity(RDKFingerprint_first_compound, RDKFingerprint_second_compound)\n",
    "    \n",
    "    def get_simmilarity_using_MACCSKeys_Fingerprint(self):\n",
    "        MACCSKeyFingerprint_first_compound = self.first_compound.get_MACCSKeys()\n",
    "        MACCSKeyFingerprint_second_compound = self.second_compound.get_MACCSKeys()\n",
    "        return DataStructs.FingerprintSimilarity(MACCSKeyFingerprint_first_compound, MACCSKeyFingerprint_second_compound)\n",
    "    \n",
    "    def get_simmilarity_using_Morgan_Fingerprint(self):\n",
    "        MorganFingerprint_first_compound = self.first_compound.getMorganFingerprint()\n",
    "        MorganFingerprint_second_compound = self.second_compound.getMorganFingerprint()\n",
    "        return DataStructs.FingerprintSimilarity(MorganFingerprint_first_compound, MorganFingerprint_second_compound) "
   ]
  },
  {
   "cell_type": "code",
   "execution_count": 5,
   "metadata": {},
   "outputs": [],
   "source": [
    "def get_list_pairs_moleculs(list_molecules_1, list_molecules_2):\n",
    "    \"\"\"\n",
    "    make pairs of molecules\n",
    "    \n",
    "    Parametrs\n",
    "    ---------\n",
    "    list_molecules_1: list with molecules from first database\n",
    "    list_molecules_2: list with molecules from second database\n",
    "    \n",
    "    Return\n",
    "    ------\n",
    "    list with pairs of molecules (molecule from list_molecules_1, molecule from list_molecules_2), in that each pair belongs to the class Pair\n",
    "    \"\"\"\n",
    "    \n",
    "    list_of_pairs = []\n",
    "    for i in range(len(list_molecules_1)):\n",
    "        for j in range(len(list_molecules_2)):\n",
    "            list_of_pairs.append(Pair(list_molecules_1[i], list_molecules_2[j]))\n",
    "    return list_of_pairs"
   ]
  },
  {
   "cell_type": "code",
   "execution_count": 6,
   "metadata": {},
   "outputs": [],
   "source": [
    "def select_pairs_by_treshold(list_of_pairs, type_fingerprints, treshold = 0.7):\n",
    "    \"\"\"\n",
    "    select pairs of molecules whose similarity coefficient is greater than the threshold\n",
    "    \n",
    "    Parametrs\n",
    "    ---------\n",
    "    list_of_pairs: list with pairs of molecules\n",
    "    type_fingerprints: type of molecular fingerprints\n",
    "    treshold: set threshold, the default value is 0.7\n",
    "    \n",
    "    Return\n",
    "    ------\n",
    "    list with selected pairs of molecules, in that each pair belongs to the class Pair\n",
    "    \"\"\"\n",
    "    \n",
    "    selected_pairs = []\n",
    "    if type_fingerprints== 'RDKFingerprint':\n",
    "        for pair in list_of_pairs:\n",
    "            if pair.get_simmilarity_using_RDKFingerprint() > treshold:\n",
    "                selected_pairs.append(pair)\n",
    "        return selected_pairs\n",
    "                \n",
    "    elif type_fingerprints == \"MACCSkeys\":\n",
    "        for pair in list_of_pairs:\n",
    "            if pair.get_simmilarity_using_MACCSKeys_Fingerprint() > treshold:\n",
    "                selected_pairs.append(pair)\n",
    "        return selected_pairs\n",
    "                \n",
    "    elif type_fingerprints == \"MorganFingerprint\":\n",
    "        for pair in list_of_pairs:\n",
    "            if pair.get_simmilarity_using_Morgan_Fingerprint() > treshold:\n",
    "                selected_pairs.append(pair)\n",
    "        return selected_pairs"
   ]
  },
  {
   "cell_type": "markdown",
   "metadata": {},
   "source": [
    "Сначала создадим список молекул из базы L1000FWD."
   ]
  },
  {
   "cell_type": "code",
   "execution_count": 7,
   "metadata": {},
   "outputs": [
    {
     "name": "stdout",
     "output_type": "stream",
     "text": [
      "shape of dataframe L1000FWD_drug: (20449, 13)\n"
     ]
    }
   ],
   "source": [
    "L1000FWD_drug = pd.read_table('https://maayanlab.cloud/L1000FWD/download/Drugs_metadata.csv', sep = ',')\n",
    "print('shape of dataframe L1000FWD_drug:', L1000FWD_drug.shape)\n",
    "L1000FWD_drug.head()\n",
    "L1000FWD_drug = L1000FWD_drug.dropna(subset = ['canonical_smiles', 'pert_iname', 'pubchem_cid'])"
   ]
  },
  {
   "cell_type": "code",
   "execution_count": 8,
   "metadata": {},
   "outputs": [],
   "source": [
    "molecules_L1000FWD_drug = []\n",
    "for (smiles, name, cid) in zip(L1000FWD_drug['canonical_smiles'], L1000FWD_drug['pert_iname'], L1000FWD_drug['pubchem_cid']):\n",
    "    molecule = Molecule(cid, name, smiles, 'L1000FWD') # представляем молекулы в виде объектов класса Molecule\n",
    "    molecules_L1000FWD_drug.append(molecule)"
   ]
  },
  {
   "cell_type": "code",
   "execution_count": 9,
   "metadata": {},
   "outputs": [
    {
     "data": {
      "text/plain": [
       "20363"
      ]
     },
     "execution_count": 9,
     "metadata": {},
     "output_type": "execute_result"
    }
   ],
   "source": [
    "len(molecules_L1000FWD_drug)"
   ]
  },
  {
   "cell_type": "markdown",
   "metadata": {},
   "source": [
    "Теперь создадим список молекул из базы CFM."
   ]
  },
  {
   "cell_type": "code",
   "execution_count": 10,
   "metadata": {},
   "outputs": [
    {
     "name": "stdout",
     "output_type": "stream",
     "text": [
      "shape of dataframe chemicals_CFM: (158, 5)\n"
     ]
    },
    {
     "data": {
      "text/html": [
       "<div>\n",
       "<style scoped>\n",
       "    .dataframe tbody tr th:only-of-type {\n",
       "        vertical-align: middle;\n",
       "    }\n",
       "\n",
       "    .dataframe tbody tr th {\n",
       "        vertical-align: top;\n",
       "    }\n",
       "\n",
       "    .dataframe thead th {\n",
       "        text-align: right;\n",
       "    }\n",
       "</style>\n",
       "<table border=\"1\" class=\"dataframe\">\n",
       "  <thead>\n",
       "    <tr style=\"text-align: right;\">\n",
       "      <th></th>\n",
       "      <th>cid</th>\n",
       "      <th>link</th>\n",
       "      <th>name</th>\n",
       "      <th>Synonyms</th>\n",
       "      <th>MOA</th>\n",
       "    </tr>\n",
       "  </thead>\n",
       "  <tbody>\n",
       "    <tr>\n",
       "      <th>0</th>\n",
       "      <td>459803</td>\n",
       "      <td>https://pubchem.ncbi.nlm.nih.gov/compound/459803</td>\n",
       "      <td>AC1LA18U</td>\n",
       "      <td>NaN</td>\n",
       "      <td>Inhibitor of the HIF prolyl 4-hydroxylase</td>\n",
       "    </tr>\n",
       "    <tr>\n",
       "      <th>1</th>\n",
       "      <td>91899426</td>\n",
       "      <td>https://pubchem.ncbi.nlm.nih.gov/compound/9189...</td>\n",
       "      <td>2-phospho-L-ascorbic acid</td>\n",
       "      <td>2-phospho-L-ascorbic acid;BDBM92477</td>\n",
       "      <td>_</td>\n",
       "    </tr>\n",
       "    <tr>\n",
       "      <th>2</th>\n",
       "      <td>286003</td>\n",
       "      <td>https://pubchem.ncbi.nlm.nih.gov/compound/286003</td>\n",
       "      <td>DTXSID80301486</td>\n",
       "      <td>NaN</td>\n",
       "      <td>Agonist of the Adenosine Receptor</td>\n",
       "    </tr>\n",
       "    <tr>\n",
       "      <th>3</th>\n",
       "      <td>47289</td>\n",
       "      <td>https://pubchem.ncbi.nlm.nih.gov/compound/47289</td>\n",
       "      <td>4-(Methylnitrosamino)-1-(3-pyridyl)-1-butanone</td>\n",
       "      <td>NaN</td>\n",
       "      <td>_</td>\n",
       "    </tr>\n",
       "    <tr>\n",
       "      <th>4</th>\n",
       "      <td>451668</td>\n",
       "      <td>https://pubchem.ncbi.nlm.nih.gov/compound/451668</td>\n",
       "      <td>5-Aza-2'-deoxycytidine</td>\n",
       "      <td>Decitabine;5-Aza-2'-deoxycytidine;2353-33-5;Da...</td>\n",
       "      <td>Inhibitor of DNA methylation</td>\n",
       "    </tr>\n",
       "  </tbody>\n",
       "</table>\n",
       "</div>"
      ],
      "text/plain": [
       "        cid                                               link  \\\n",
       "0    459803   https://pubchem.ncbi.nlm.nih.gov/compound/459803   \n",
       "1  91899426  https://pubchem.ncbi.nlm.nih.gov/compound/9189...   \n",
       "2    286003   https://pubchem.ncbi.nlm.nih.gov/compound/286003   \n",
       "3     47289    https://pubchem.ncbi.nlm.nih.gov/compound/47289   \n",
       "4    451668   https://pubchem.ncbi.nlm.nih.gov/compound/451668   \n",
       "\n",
       "                                             name  \\\n",
       "0                                        AC1LA18U   \n",
       "1                       2-phospho-L-ascorbic acid   \n",
       "2                                  DTXSID80301486   \n",
       "3  4-(Methylnitrosamino)-1-(3-pyridyl)-1-butanone   \n",
       "4                          5-Aza-2'-deoxycytidine   \n",
       "\n",
       "                                            Synonyms  \\\n",
       "0                                                NaN   \n",
       "1                2-phospho-L-ascorbic acid;BDBM92477   \n",
       "2                                                NaN   \n",
       "3                                                NaN   \n",
       "4  Decitabine;5-Aza-2'-deoxycytidine;2353-33-5;Da...   \n",
       "\n",
       "                                         MOA  \n",
       "0  Inhibitor of the HIF prolyl 4-hydroxylase  \n",
       "1                                          _  \n",
       "2          Agonist of the Adenosine Receptor  \n",
       "3                                          _  \n",
       "4               Inhibitor of DNA methylation  "
      ]
     },
     "execution_count": 10,
     "metadata": {},
     "output_type": "execute_result"
    }
   ],
   "source": [
    "chemicals_CFM = pd.read_table('direct_reprogramming_non-genetics - Chemicals.csv', sep = ',')\n",
    "print('shape of dataframe chemicals_CFM:', chemicals_CFM.shape)\n",
    "chemicals_CFM = chemicals_CFM.dropna(subset = ['cid', 'name'])\n",
    "chemicals_CFM.head()"
   ]
  },
  {
   "cell_type": "code",
   "execution_count": 11,
   "metadata": {},
   "outputs": [],
   "source": [
    "def get_smiles_for_molecules_CFM(chemicals_CFM):\n",
    "    \"\"\"\n",
    "    get smiles of molecules by cid of molecules and wtite smiles in file \"smiles_of_molecules_CFM.txt\"\n",
    "    \n",
    "    Parametrs\n",
    "    ---------\n",
    "    chemicals_CFM: dataframe with column with cids of molecules\n",
    "    \"\"\"\n",
    "        \n",
    "    str_with_cids = str()\n",
    "    for cid in chemicals_CFM['cid']:\n",
    "        if cid != '_':\n",
    "            url = 'https://pubchem.ncbi.nlm.nih.gov/rest/pug/compound/cid/' + str(cid) + '/property/CanonicalSMILES/csv'\n",
    "            response = urllib.request.urlopen(url)\n",
    "            str_response = response.read().decode('utf-8')\n",
    "            list_responce = str_response.split(',')\n",
    "            cid_with_extra_quotes = list_responce[-1]\n",
    "            str_with_cids = str_with_cids + cid_with_extra_quotes\n",
    "    with open(\"smiles_of_molecules_CFM.txt\", \"w\") as file:\n",
    "        file.write(str_with_cids)"
   ]
  },
  {
   "cell_type": "code",
   "execution_count": 12,
   "metadata": {},
   "outputs": [],
   "source": [
    "get_smiles_for_molecules_CFM(chemicals_CFM) # записали smiles в файл"
   ]
  },
  {
   "cell_type": "code",
   "execution_count": 13,
   "metadata": {},
   "outputs": [],
   "source": [
    "def list_molecules_chemicals_CFM(chemicals_CFM, file_with_smiles):\n",
    "    \"\"\"\n",
    "    make list of molecules, in which each molecule belongs class Molecule\n",
    "    \n",
    "    Parametrs\n",
    "    ---------\n",
    "    chemicals_CFM: dataframe with column with cids, names of molecules\n",
    "    file_with_smiles: file with smiles of molecules\n",
    "    \n",
    "    Return\n",
    "    ------\n",
    "    list of molecules, in which each molecule belongs class Molecule\n",
    "    \"\"\"\n",
    "    \n",
    "    list_smiles_of_molecules_CFM = []\n",
    "    with open(file_with_smiles, \"r\") as file:\n",
    "        for line in file:\n",
    "            list_smiles_of_molecules_CFM.append(line[1:-2])\n",
    "        \n",
    "    molecules_chemicals_CFM = []\n",
    "    for (name, cid, smiles) in zip(chemicals_CFM['name'], chemicals_CFM['cid'], list_smiles_of_molecules_CFM):\n",
    "        molecule = Molecule(cid, name, smiles, 'CFM')\n",
    "        molecules_chemicals_CFM.append(molecule)\n",
    "    return molecules_chemicals_CFM"
   ]
  },
  {
   "cell_type": "code",
   "execution_count": 14,
   "metadata": {},
   "outputs": [],
   "source": [
    "molecules_chemicals_CFM = list_molecules_chemicals_CFM(chemicals_CFM, 'smiles_of_molecules_CFM.txt')"
   ]
  },
  {
   "cell_type": "markdown",
   "metadata": {},
   "source": [
    "Создадим список, в котором представлены всевозможные пары молекул (первая молекула принадлежит базе L1000FWD, вторая молекула CFM). Элементом списка является объект, принадлежащий классу Pair."
   ]
  },
  {
   "cell_type": "code",
   "execution_count": 15,
   "metadata": {},
   "outputs": [],
   "source": [
    "list_pairs = get_list_pairs_moleculs(molecules_L1000FWD_drug, molecules_chemicals_CFM)"
   ]
  },
  {
   "cell_type": "code",
   "execution_count": 16,
   "metadata": {},
   "outputs": [
    {
     "data": {
      "text/plain": [
       "3135902"
      ]
     },
     "execution_count": 16,
     "metadata": {},
     "output_type": "execute_result"
    }
   ],
   "source": [
    "len(list_pairs)"
   ]
  },
  {
   "cell_type": "markdown",
   "metadata": {},
   "source": [
    "Для примера отберем пары молекул, коэффициент сходства которых больше 0,7 и используются Morgan fingerprints."
   ]
  },
  {
   "cell_type": "code",
   "execution_count": 17,
   "metadata": {},
   "outputs": [],
   "source": [
    "selected_pairs = select_pairs_by_treshold(list_pairs, \"MorganFingerprint\", treshold = 0.7)"
   ]
  },
  {
   "cell_type": "code",
   "execution_count": 18,
   "metadata": {},
   "outputs": [
    {
     "name": "stdout",
     "output_type": "stream",
     "text": [
      "число пар : 161\n"
     ]
    }
   ],
   "source": [
    "print('число пар :', len(selected_pairs))"
   ]
  },
  {
   "cell_type": "markdown",
   "metadata": {},
   "source": [
    "Посмотрим таблицу для клеточных переходов."
   ]
  },
  {
   "cell_type": "code",
   "execution_count": 19,
   "metadata": {},
   "outputs": [
    {
     "name": "stdout",
     "output_type": "stream",
     "text": [
      "shape : (169, 19)\n"
     ]
    },
    {
     "data": {
      "text/html": [
       "<div>\n",
       "<style scoped>\n",
       "    .dataframe tbody tr th:only-of-type {\n",
       "        vertical-align: middle;\n",
       "    }\n",
       "\n",
       "    .dataframe tbody tr th {\n",
       "        vertical-align: top;\n",
       "    }\n",
       "\n",
       "    .dataframe thead th {\n",
       "        text-align: right;\n",
       "    }\n",
       "</style>\n",
       "<table border=\"1\" class=\"dataframe\">\n",
       "  <thead>\n",
       "    <tr style=\"text-align: right;\">\n",
       "      <th></th>\n",
       "      <th>DOI</th>\n",
       "      <th>Species</th>\n",
       "      <th>Source Cell Type</th>\n",
       "      <th>Target Cell Type</th>\n",
       "      <th>Duration, d</th>\n",
       "      <th>name of chemical 1,CID 1;name of chemical 2,CID 2</th>\n",
       "      <th>Medium</th>\n",
       "      <th>Growth Factors</th>\n",
       "      <th>Initial Culture (text)</th>\n",
       "      <th>MoA chem 1; MoA chem 2</th>\n",
       "      <th>TFs/miRNA</th>\n",
       "      <th>Title</th>\n",
       "      <th>Assocoated Data</th>\n",
       "      <th>Yield (%)</th>\n",
       "      <th>Comment on Yield</th>\n",
       "      <th>Type</th>\n",
       "      <th>Comment</th>\n",
       "      <th>Authors;sorted=\"Reverse\";sep=;</th>\n",
       "      <th>Stress factors</th>\n",
       "    </tr>\n",
       "  </thead>\n",
       "  <tbody>\n",
       "    <tr>\n",
       "      <th>0</th>\n",
       "      <td>10.1371/journal.pone.0089678</td>\n",
       "      <td>Mus musculus</td>\n",
       "      <td>Fibroblasts</td>\n",
       "      <td>Induced Cardiomyocytes</td>\n",
       "      <td>14</td>\n",
       "      <td>SB431542,4521392</td>\n",
       "      <td>doxycycline (2 µg mL−1) and the PGK-H2B-m Cher...</td>\n",
       "      <td>_</td>\n",
       "      <td>MEFs, isolated at E14.5</td>\n",
       "      <td>Inhibitor of the Activin/BMP/TGF-β pathway</td>\n",
       "      <td>_</td>\n",
       "      <td>Inhibition of TGFβ signaling increases direct ...</td>\n",
       "      <td>GSE54022</td>\n",
       "      <td>16.95</td>\n",
       "      <td>NaN</td>\n",
       "      <td>2</td>\n",
       "      <td>_</td>\n",
       "      <td>John D. Gearhart; Jonathan A. Epstein; Russell...</td>\n",
       "      <td>_</td>\n",
       "    </tr>\n",
       "    <tr>\n",
       "      <th>1</th>\n",
       "      <td>10.1007/s12015-013-9477-9</td>\n",
       "      <td>Sus scrofa</td>\n",
       "      <td>Fibroblasts</td>\n",
       "      <td>Induced Pancreatic Beta Cells</td>\n",
       "      <td>36</td>\n",
       "      <td>5-Aza-2'-deoxycytidine,9444</td>\n",
       "      <td>N2B27 with 0.1 mM β- mercaptoetanol (Sigma), 2...</td>\n",
       "      <td>basic fibroblast growth factor 20 ng/ml</td>\n",
       "      <td>Primary porcine skin fibroblast cultures were ...</td>\n",
       "      <td>Inhibitor of DNA methylation</td>\n",
       "      <td>_</td>\n",
       "      <td>Reprogramming of pig dermal fibroblast into in...</td>\n",
       "      <td>_</td>\n",
       "      <td>38.1</td>\n",
       "      <td>Counting insulin labeled cells with a flow cyt...</td>\n",
       "      <td>1</td>\n",
       "      <td>_</td>\n",
       "      <td>F.; Gandolfi; T. A. L.; Brevini; M. M.; Rahman...</td>\n",
       "      <td>_</td>\n",
       "    </tr>\n",
       "    <tr>\n",
       "      <th>2</th>\n",
       "      <td>10.1038/ncomms3183</td>\n",
       "      <td>Homo sapiens</td>\n",
       "      <td>Fibroblasts</td>\n",
       "      <td>Induced Cholinergic Neurons</td>\n",
       "      <td>28</td>\n",
       "      <td>Forskolin,47936;Dorsomorphin,11524144</td>\n",
       "      <td>_</td>\n",
       "      <td>FGF2 (10 ng ml−1)</td>\n",
       "      <td>Human fibroblasts were obtained from commercia...</td>\n",
       "      <td>CAMP agonist;Inhibitor of ALK2, ALK3, ALK6</td>\n",
       "      <td>NGN2</td>\n",
       "      <td>Small Molecules Enable Neurogenin 2 to Efficie...</td>\n",
       "      <td>GSE45954</td>\n",
       "      <td>57.2</td>\n",
       "      <td>NaN</td>\n",
       "      <td>2</td>\n",
       "      <td>_</td>\n",
       "      <td>Oliver Brüstle; Philipp Koch; Franz-Josef Müll...</td>\n",
       "      <td>_</td>\n",
       "    </tr>\n",
       "    <tr>\n",
       "      <th>3</th>\n",
       "      <td>10.1016/j.biocel.2013.04.022</td>\n",
       "      <td>Homo sapiens</td>\n",
       "      <td>Mesenchymal Stem Cells (Bone marrow derived)</td>\n",
       "      <td>Induced Neurons</td>\n",
       "      <td>28</td>\n",
       "      <td>SB431542,4521392;Dorsomorphin,11524144</td>\n",
       "      <td>NeuroCult supplemented with 1% penicillin/stre...</td>\n",
       "      <td>10 ng/ml recombinant human bFGF</td>\n",
       "      <td>8-week fetal forebrain</td>\n",
       "      <td>Inhibitor of the Activin/BMP/TGF-β pathway;Inh...</td>\n",
       "      <td>_</td>\n",
       "      <td>Enhancing the efficiency of direct reprogrammi...</td>\n",
       "      <td>_</td>\n",
       "      <td>1</td>\n",
       "      <td>Sodium current, Electrophysiological recordings</td>\n",
       "      <td>1</td>\n",
       "      <td>_</td>\n",
       "      <td>Zhiying Zhang; Qing-song Liu;Alexanian Arshak R.</td>\n",
       "      <td>_</td>\n",
       "    </tr>\n",
       "    <tr>\n",
       "      <th>4</th>\n",
       "      <td>10.1371/journal.pone.0003531</td>\n",
       "      <td>Mus musculus</td>\n",
       "      <td>Primordial Germ Cells</td>\n",
       "      <td>Induced Pluripotent Epiblast Cells</td>\n",
       "      <td>10</td>\n",
       "      <td>Trichostatin A,444732</td>\n",
       "      <td>LIF (1200 IU/ml), FGF-2 (25 ng/ml)</td>\n",
       "      <td>FGF-2 (25 ng/ml)</td>\n",
       "      <td>EG cell lines, 8.5 EGC-1 and 4-3 Rosa, were de...</td>\n",
       "      <td>Inhibitor of the histone deacetylases I and II</td>\n",
       "      <td>_</td>\n",
       "      <td>Reprogramming Primordial Germ Cells into Pluri...</td>\n",
       "      <td>_</td>\n",
       "      <td>30</td>\n",
       "      <td>cells were stained for TNAP activity and the n...</td>\n",
       "      <td>2</td>\n",
       "      <td>_</td>\n",
       "      <td>M. Azim Surani; Reuben Tooze; Gina Doody; Fuch...</td>\n",
       "      <td>_</td>\n",
       "    </tr>\n",
       "  </tbody>\n",
       "</table>\n",
       "</div>"
      ],
      "text/plain": [
       "                            DOI       Species  \\\n",
       "0  10.1371/journal.pone.0089678  Mus musculus   \n",
       "1     10.1007/s12015-013-9477-9    Sus scrofa   \n",
       "2            10.1038/ncomms3183  Homo sapiens   \n",
       "3  10.1016/j.biocel.2013.04.022  Homo sapiens   \n",
       "4  10.1371/journal.pone.0003531  Mus musculus   \n",
       "\n",
       "                               Source Cell Type  \\\n",
       "0                                   Fibroblasts   \n",
       "1                                   Fibroblasts   \n",
       "2                                   Fibroblasts   \n",
       "3  Mesenchymal Stem Cells (Bone marrow derived)   \n",
       "4                         Primordial Germ Cells   \n",
       "\n",
       "                      Target Cell Type Duration, d  \\\n",
       "0               Induced Cardiomyocytes          14   \n",
       "1        Induced Pancreatic Beta Cells          36   \n",
       "2          Induced Cholinergic Neurons          28   \n",
       "3                      Induced Neurons          28   \n",
       "4  Induced Pluripotent Epiblast Cells           10   \n",
       "\n",
       "  name of chemical 1,CID 1;name of chemical 2,CID 2  \\\n",
       "0                                  SB431542,4521392   \n",
       "1                       5-Aza-2'-deoxycytidine,9444   \n",
       "2             Forskolin,47936;Dorsomorphin,11524144   \n",
       "3            SB431542,4521392;Dorsomorphin,11524144   \n",
       "4                             Trichostatin A,444732   \n",
       "\n",
       "                                              Medium  \\\n",
       "0  doxycycline (2 µg mL−1) and the PGK-H2B-m Cher...   \n",
       "1  N2B27 with 0.1 mM β- mercaptoetanol (Sigma), 2...   \n",
       "2                                                  _   \n",
       "3  NeuroCult supplemented with 1% penicillin/stre...   \n",
       "4                LIF (1200 IU/ml), FGF-2 (25 ng/ml)    \n",
       "\n",
       "                            Growth Factors  \\\n",
       "0                                        _   \n",
       "1  basic fibroblast growth factor 20 ng/ml   \n",
       "2                        FGF2 (10 ng ml−1)   \n",
       "3          10 ng/ml recombinant human bFGF   \n",
       "4                         FGF-2 (25 ng/ml)   \n",
       "\n",
       "                              Initial Culture (text)  \\\n",
       "0                            MEFs, isolated at E14.5   \n",
       "1  Primary porcine skin fibroblast cultures were ...   \n",
       "2  Human fibroblasts were obtained from commercia...   \n",
       "3                             8-week fetal forebrain   \n",
       "4  EG cell lines, 8.5 EGC-1 and 4-3 Rosa, were de...   \n",
       "\n",
       "                              MoA chem 1; MoA chem 2 TFs/miRNA  \\\n",
       "0         Inhibitor of the Activin/BMP/TGF-β pathway         _   \n",
       "1                       Inhibitor of DNA methylation         _   \n",
       "2         CAMP agonist;Inhibitor of ALK2, ALK3, ALK6      NGN2   \n",
       "3  Inhibitor of the Activin/BMP/TGF-β pathway;Inh...         _   \n",
       "4     Inhibitor of the histone deacetylases I and II         _   \n",
       "\n",
       "                                               Title Assocoated Data  \\\n",
       "0  Inhibition of TGFβ signaling increases direct ...        GSE54022   \n",
       "1  Reprogramming of pig dermal fibroblast into in...               _   \n",
       "2  Small Molecules Enable Neurogenin 2 to Efficie...        GSE45954   \n",
       "3  Enhancing the efficiency of direct reprogrammi...               _   \n",
       "4  Reprogramming Primordial Germ Cells into Pluri...               _   \n",
       "\n",
       "  Yield (%)                                   Comment on Yield  Type Comment  \\\n",
       "0     16.95                                                NaN     2       _   \n",
       "1      38.1  Counting insulin labeled cells with a flow cyt...     1       _   \n",
       "2      57.2                                                NaN     2       _   \n",
       "3         1    Sodium current, Electrophysiological recordings     1       _   \n",
       "4        30  cells were stained for TNAP activity and the n...     2       _   \n",
       "\n",
       "                      Authors;sorted=\"Reverse\";sep=; Stress factors  \n",
       "0  John D. Gearhart; Jonathan A. Epstein; Russell...              _  \n",
       "1  F.; Gandolfi; T. A. L.; Brevini; M. M.; Rahman...              _  \n",
       "2  Oliver Brüstle; Philipp Koch; Franz-Josef Müll...              _  \n",
       "3   Zhiying Zhang; Qing-song Liu;Alexanian Arshak R.              _  \n",
       "4  M. Azim Surani; Reuben Tooze; Gina Doody; Fuch...              _  "
      ]
     },
     "execution_count": 19,
     "metadata": {},
     "output_type": "execute_result"
    }
   ],
   "source": [
    "structure_CFM = pd.read_table('direct_reprogramming_non-genetics - structure.csv', sep = ',')\n",
    "print('shape :', structure_CFM.shape)\n",
    "structure_CFM.head()"
   ]
  },
  {
   "cell_type": "markdown",
   "metadata": {},
   "source": [
    "На основе этой таблицы создадим таблицу, в которой к каждому клеточному переходу укажем пары молекул (первая молекула принадлежит базе L1000FWD, вторая молекула - CFM), которые могут осуществить этот переход, исходя из того, что в таблице structure_CFM указаны cids молекул из базы CFM, которые обладают потенциал для перепрограммирования. То есть, если вторая молекула из пары указана для клеточного перехода, то считаем что первая молекула  из пары тоже может осуществить этот переход."
   ]
  },
  {
   "cell_type": "code",
   "execution_count": 20,
   "metadata": {},
   "outputs": [],
   "source": [
    "dataframe_selected_pairs_with_features = structure_CFM.iloc[:, 0:6]\n",
    "dataframe_selected_pairs_with_features['smiles of chemicals'] = 'not molecules'\n",
    "for pair in selected_pairs:\n",
    "    for i in range(structure_CFM.shape[0]):\n",
    "        string_molecules = structure_CFM.iloc[i, 5]\n",
    "        list_molecules = string_molecules.split(';')\n",
    "        list_cids = []\n",
    "        for mol in list_molecules:\n",
    "            list_cids.append(mol.split(',')[-1])\n",
    "        if pair.second_compound.cid in list_cids:\n",
    "            if dataframe_selected_pairs_with_features.iloc[i, 6] == 'not molecules':\n",
    "                dataframe_selected_pairs_with_features.iloc[i, 6] = pair.first_compound.smiles + ';'+ pair.second_compound.smiles\n",
    "            else :\n",
    "                dataframe_selected_pairs_with_features.iloc[i, 6] = dataframe_selected_pairs_with_features.iloc[i, 6] + ';' + pair.first_compound.smiles + ';'+ pair.second_compound.smiles"
   ]
  },
  {
   "cell_type": "markdown",
   "metadata": {},
   "source": [
    "Посмтрим на итоговую таблицу для клеточных переходов."
   ]
  },
  {
   "cell_type": "code",
   "execution_count": 21,
   "metadata": {},
   "outputs": [
    {
     "name": "stdout",
     "output_type": "stream",
     "text": [
      "shape : (169, 7)\n"
     ]
    },
    {
     "data": {
      "text/html": [
       "<div>\n",
       "<style scoped>\n",
       "    .dataframe tbody tr th:only-of-type {\n",
       "        vertical-align: middle;\n",
       "    }\n",
       "\n",
       "    .dataframe tbody tr th {\n",
       "        vertical-align: top;\n",
       "    }\n",
       "\n",
       "    .dataframe thead th {\n",
       "        text-align: right;\n",
       "    }\n",
       "</style>\n",
       "<table border=\"1\" class=\"dataframe\">\n",
       "  <thead>\n",
       "    <tr style=\"text-align: right;\">\n",
       "      <th></th>\n",
       "      <th>DOI</th>\n",
       "      <th>Species</th>\n",
       "      <th>Source Cell Type</th>\n",
       "      <th>Target Cell Type</th>\n",
       "      <th>Duration, d</th>\n",
       "      <th>name of chemical 1,CID 1;name of chemical 2,CID 2</th>\n",
       "      <th>smiles of chemicals</th>\n",
       "    </tr>\n",
       "  </thead>\n",
       "  <tbody>\n",
       "    <tr>\n",
       "      <th>0</th>\n",
       "      <td>10.1371/journal.pone.0089678</td>\n",
       "      <td>Mus musculus</td>\n",
       "      <td>Fibroblasts</td>\n",
       "      <td>Induced Cardiomyocytes</td>\n",
       "      <td>14</td>\n",
       "      <td>SB431542,4521392</td>\n",
       "      <td>ONC(=O)CCCCCN1C(=O)c2cccc3cccc(C1=O)c23;C1=CC2...</td>\n",
       "    </tr>\n",
       "    <tr>\n",
       "      <th>1</th>\n",
       "      <td>10.1007/s12015-013-9477-9</td>\n",
       "      <td>Sus scrofa</td>\n",
       "      <td>Fibroblasts</td>\n",
       "      <td>Induced Pancreatic Beta Cells</td>\n",
       "      <td>36</td>\n",
       "      <td>5-Aza-2'-deoxycytidine,9444</td>\n",
       "      <td>not molecules</td>\n",
       "    </tr>\n",
       "    <tr>\n",
       "      <th>2</th>\n",
       "      <td>10.1038/ncomms3183</td>\n",
       "      <td>Homo sapiens</td>\n",
       "      <td>Fibroblasts</td>\n",
       "      <td>Induced Cholinergic Neurons</td>\n",
       "      <td>28</td>\n",
       "      <td>Forskolin,47936;Dorsomorphin,11524144</td>\n",
       "      <td>CC(=O)O[C@H]1[C@@H](O)C2C(C)(C)CC[C@H](O)[C@]2...</td>\n",
       "    </tr>\n",
       "    <tr>\n",
       "      <th>3</th>\n",
       "      <td>10.1016/j.biocel.2013.04.022</td>\n",
       "      <td>Homo sapiens</td>\n",
       "      <td>Mesenchymal Stem Cells (Bone marrow derived)</td>\n",
       "      <td>Induced Neurons</td>\n",
       "      <td>28</td>\n",
       "      <td>SB431542,4521392;Dorsomorphin,11524144</td>\n",
       "      <td>ONC(=O)CCCCCN1C(=O)c2cccc3cccc(C1=O)c23;C1=CC2...</td>\n",
       "    </tr>\n",
       "    <tr>\n",
       "      <th>4</th>\n",
       "      <td>10.1371/journal.pone.0003531</td>\n",
       "      <td>Mus musculus</td>\n",
       "      <td>Primordial Germ Cells</td>\n",
       "      <td>Induced Pluripotent Epiblast Cells</td>\n",
       "      <td>10</td>\n",
       "      <td>Trichostatin A,444732</td>\n",
       "      <td>not molecules</td>\n",
       "    </tr>\n",
       "  </tbody>\n",
       "</table>\n",
       "</div>"
      ],
      "text/plain": [
       "                            DOI       Species  \\\n",
       "0  10.1371/journal.pone.0089678  Mus musculus   \n",
       "1     10.1007/s12015-013-9477-9    Sus scrofa   \n",
       "2            10.1038/ncomms3183  Homo sapiens   \n",
       "3  10.1016/j.biocel.2013.04.022  Homo sapiens   \n",
       "4  10.1371/journal.pone.0003531  Mus musculus   \n",
       "\n",
       "                               Source Cell Type  \\\n",
       "0                                   Fibroblasts   \n",
       "1                                   Fibroblasts   \n",
       "2                                   Fibroblasts   \n",
       "3  Mesenchymal Stem Cells (Bone marrow derived)   \n",
       "4                         Primordial Germ Cells   \n",
       "\n",
       "                      Target Cell Type Duration, d  \\\n",
       "0               Induced Cardiomyocytes          14   \n",
       "1        Induced Pancreatic Beta Cells          36   \n",
       "2          Induced Cholinergic Neurons          28   \n",
       "3                      Induced Neurons          28   \n",
       "4  Induced Pluripotent Epiblast Cells           10   \n",
       "\n",
       "  name of chemical 1,CID 1;name of chemical 2,CID 2  \\\n",
       "0                                  SB431542,4521392   \n",
       "1                       5-Aza-2'-deoxycytidine,9444   \n",
       "2             Forskolin,47936;Dorsomorphin,11524144   \n",
       "3            SB431542,4521392;Dorsomorphin,11524144   \n",
       "4                             Trichostatin A,444732   \n",
       "\n",
       "                                 smiles of chemicals  \n",
       "0  ONC(=O)CCCCCN1C(=O)c2cccc3cccc(C1=O)c23;C1=CC2...  \n",
       "1                                      not molecules  \n",
       "2  CC(=O)O[C@H]1[C@@H](O)C2C(C)(C)CC[C@H](O)[C@]2...  \n",
       "3  ONC(=O)CCCCCN1C(=O)c2cccc3cccc(C1=O)c23;C1=CC2...  \n",
       "4                                      not molecules  "
      ]
     },
     "execution_count": 21,
     "metadata": {},
     "output_type": "execute_result"
    }
   ],
   "source": [
    "print('shape :', dataframe_selected_pairs_with_features.shape)\n",
    "dataframe_selected_pairs_with_features.head()"
   ]
  },
  {
   "cell_type": "markdown",
   "metadata": {},
   "source": [
    "Отфильтруем переходы, для которых не были найдены пары молекул."
   ]
  },
  {
   "cell_type": "code",
   "execution_count": 22,
   "metadata": {},
   "outputs": [
    {
     "name": "stdout",
     "output_type": "stream",
     "text": [
      "shape : (148, 7)\n"
     ]
    },
    {
     "data": {
      "text/html": [
       "<div>\n",
       "<style scoped>\n",
       "    .dataframe tbody tr th:only-of-type {\n",
       "        vertical-align: middle;\n",
       "    }\n",
       "\n",
       "    .dataframe tbody tr th {\n",
       "        vertical-align: top;\n",
       "    }\n",
       "\n",
       "    .dataframe thead th {\n",
       "        text-align: right;\n",
       "    }\n",
       "</style>\n",
       "<table border=\"1\" class=\"dataframe\">\n",
       "  <thead>\n",
       "    <tr style=\"text-align: right;\">\n",
       "      <th></th>\n",
       "      <th>DOI</th>\n",
       "      <th>Species</th>\n",
       "      <th>Source Cell Type</th>\n",
       "      <th>Target Cell Type</th>\n",
       "      <th>Duration, d</th>\n",
       "      <th>name of chemical 1,CID 1;name of chemical 2,CID 2</th>\n",
       "      <th>smiles of chemicals</th>\n",
       "    </tr>\n",
       "  </thead>\n",
       "  <tbody>\n",
       "    <tr>\n",
       "      <th>0</th>\n",
       "      <td>10.1371/journal.pone.0089678</td>\n",
       "      <td>Mus musculus</td>\n",
       "      <td>Fibroblasts</td>\n",
       "      <td>Induced Cardiomyocytes</td>\n",
       "      <td>14</td>\n",
       "      <td>SB431542,4521392</td>\n",
       "      <td>ONC(=O)CCCCCN1C(=O)c2cccc3cccc(C1=O)c23;C1=CC2...</td>\n",
       "    </tr>\n",
       "    <tr>\n",
       "      <th>2</th>\n",
       "      <td>10.1038/ncomms3183</td>\n",
       "      <td>Homo sapiens</td>\n",
       "      <td>Fibroblasts</td>\n",
       "      <td>Induced Cholinergic Neurons</td>\n",
       "      <td>28</td>\n",
       "      <td>Forskolin,47936;Dorsomorphin,11524144</td>\n",
       "      <td>CC(=O)O[C@H]1[C@@H](O)C2C(C)(C)CC[C@H](O)[C@]2...</td>\n",
       "    </tr>\n",
       "    <tr>\n",
       "      <th>3</th>\n",
       "      <td>10.1016/j.biocel.2013.04.022</td>\n",
       "      <td>Homo sapiens</td>\n",
       "      <td>Mesenchymal Stem Cells (Bone marrow derived)</td>\n",
       "      <td>Induced Neurons</td>\n",
       "      <td>28</td>\n",
       "      <td>SB431542,4521392;Dorsomorphin,11524144</td>\n",
       "      <td>ONC(=O)CCCCCN1C(=O)c2cccc3cccc(C1=O)c23;C1=CC2...</td>\n",
       "    </tr>\n",
       "    <tr>\n",
       "      <th>5</th>\n",
       "      <td>10.2217/rme.10.67</td>\n",
       "      <td>Homo sapiens</td>\n",
       "      <td>Mesenchymal Stem Cells (Bone marrow derived)</td>\n",
       "      <td>Induced Neurons</td>\n",
       "      <td>28</td>\n",
       "      <td>Trichostatin A,444732;5-Aza-2'-deoxycytidine,1...</td>\n",
       "      <td>CC(=O)O[C@H]1[C@@H](O)C2C(C)(C)CC[C@H](O)[C@]2...</td>\n",
       "    </tr>\n",
       "    <tr>\n",
       "      <th>6</th>\n",
       "      <td>10.1002/hep.23506</td>\n",
       "      <td>Homo sapiens</td>\n",
       "      <td>Embryonic stem cells</td>\n",
       "      <td>Induced Hepatocytes</td>\n",
       "      <td>20</td>\n",
       "      <td>Retinoic acid,444795</td>\n",
       "      <td>OC(=O)[C@H](Cc1c[nH]c2ccccc12)N1C(=O)c2ccccc2C...</td>\n",
       "    </tr>\n",
       "  </tbody>\n",
       "</table>\n",
       "</div>"
      ],
      "text/plain": [
       "                            DOI       Species  \\\n",
       "0  10.1371/journal.pone.0089678  Mus musculus   \n",
       "2            10.1038/ncomms3183  Homo sapiens   \n",
       "3  10.1016/j.biocel.2013.04.022  Homo sapiens   \n",
       "5             10.2217/rme.10.67  Homo sapiens   \n",
       "6             10.1002/hep.23506  Homo sapiens   \n",
       "\n",
       "                               Source Cell Type             Target Cell Type  \\\n",
       "0                                   Fibroblasts       Induced Cardiomyocytes   \n",
       "2                                   Fibroblasts  Induced Cholinergic Neurons   \n",
       "3  Mesenchymal Stem Cells (Bone marrow derived)              Induced Neurons   \n",
       "5  Mesenchymal Stem Cells (Bone marrow derived)              Induced Neurons   \n",
       "6                          Embryonic stem cells          Induced Hepatocytes   \n",
       "\n",
       "  Duration, d  name of chemical 1,CID 1;name of chemical 2,CID 2  \\\n",
       "0          14                                   SB431542,4521392   \n",
       "2          28              Forskolin,47936;Dorsomorphin,11524144   \n",
       "3          28             SB431542,4521392;Dorsomorphin,11524144   \n",
       "5          28  Trichostatin A,444732;5-Aza-2'-deoxycytidine,1...   \n",
       "6          20                               Retinoic acid,444795   \n",
       "\n",
       "                                 smiles of chemicals  \n",
       "0  ONC(=O)CCCCCN1C(=O)c2cccc3cccc(C1=O)c23;C1=CC2...  \n",
       "2  CC(=O)O[C@H]1[C@@H](O)C2C(C)(C)CC[C@H](O)[C@]2...  \n",
       "3  ONC(=O)CCCCCN1C(=O)c2cccc3cccc(C1=O)c23;C1=CC2...  \n",
       "5  CC(=O)O[C@H]1[C@@H](O)C2C(C)(C)CC[C@H](O)[C@]2...  \n",
       "6  OC(=O)[C@H](Cc1c[nH]c2ccccc12)N1C(=O)c2ccccc2C...  "
      ]
     },
     "execution_count": 22,
     "metadata": {},
     "output_type": "execute_result"
    }
   ],
   "source": [
    "print('shape :', dataframe_selected_pairs_with_features[dataframe_selected_pairs_with_features['smiles of chemicals'] != 'not molecules'].shape) \n",
    "dataframe_selected_pairs_with_features[dataframe_selected_pairs_with_features['smiles of chemicals'] != 'not molecules'].head()"
   ]
  },
  {
   "cell_type": "code",
   "execution_count": 23,
   "metadata": {},
   "outputs": [
    {
     "data": {
      "text/plain": [
       "'CC(=O)O[C@H]1[C@@H](O)C2C(C)(C)CC[C@H](O)[C@]2(C)[C@@]3(O)C(=O)C[C@@](C)(O[C@]13C)C=C;CC(=O)OC1C(C2C(CCC(C2(C3(C1(OC(CC3=O)(C)C=C)C)O)C)O)(C)C)O;CC(=O)O[C@H]1[C@@H](O)[C@H]2C(C)(C)CC[C@H](O)[C@]2(C)[C@@]3(O)C(=O)C[C@@](C)(O[C@]13C)C=C;CC(=O)OC1C(C2C(CCC(C2(C3(C1(OC(CC3=O)(C)C=C)C)O)C)O)(C)C)O;CC(=O)OC1C(O)C2C(C)(C)CCC(O)C2(C)C2(O)C(=O)CC(C)(OC12C)C=C;CC(=O)OC1C(C2C(CCC(C2(C3(C1(OC(CC3=O)(C)C=C)C)O)C)O)(C)C)O;CC(=O)O[C@H]1[C@@H](O)[C@H]2C(C)(C)CC[C@@H](O)[C@]2(C)[C@@]3(O)C(=O)C[C@@](C)(O[C@]13C)C=C;CC(=O)OC1C(C2C(CCC(C2(C3(C1(OC(CC3=O)(C)C=C)C)O)C)O)(C)C)O;C(CN1CCCCC1)Oc2ccc(cc2)c3cnc4c(cnn4c3)c5ccncc5;C1CCN(CC1)CCOC2=CC=C(C=C2)C3=CN4C(=C(C=N4)C5=CC=NC=C5)N=C3'"
      ]
     },
     "execution_count": 23,
     "metadata": {},
     "output_type": "execute_result"
    }
   ],
   "source": [
    "dataframe_selected_pairs_with_features.iloc[2,6]"
   ]
  },
  {
   "cell_type": "code",
   "execution_count": 24,
   "metadata": {},
   "outputs": [],
   "source": [
    "with open(\"table_of_cell_conversion_and_chemicals.csv\", \"w\") as file:\n",
    "    dataframe_selected_pairs_with_features.to_csv(\"table_of_cell_conversion_and_chemicals.csv\")"
   ]
  },
  {
   "cell_type": "code",
   "execution_count": null,
   "metadata": {},
   "outputs": [],
   "source": []
  }
 ],
 "metadata": {
  "kernelspec": {
   "display_name": "Python 3",
   "language": "python",
   "name": "python3"
  },
  "language_info": {
   "codemirror_mode": {
    "name": "ipython",
    "version": 3
   },
   "file_extension": ".py",
   "mimetype": "text/x-python",
   "name": "python",
   "nbconvert_exporter": "python",
   "pygments_lexer": "ipython3",
   "version": "3.8.2"
  }
 },
 "nbformat": 4,
 "nbformat_minor": 4
}
