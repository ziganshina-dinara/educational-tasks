{
 "cells": [
  {
   "cell_type": "code",
   "execution_count": 1,
   "metadata": {},
   "outputs": [],
   "source": [
    "import pandas as pd\n",
    "import numpy as np\n",
    "import requests\n",
    "import json"
   ]
  },
  {
   "cell_type": "markdown",
   "metadata": {},
   "source": [
    "Создадим функцию, которая будет определять сигнатуру по анализу DE."
   ]
  },
  {
   "cell_type": "code",
   "execution_count": 6,
   "metadata": {},
   "outputs": [],
   "source": [
    "def make_signature_from_DE (file, logFC = (-1, 1), pvalue = 0.01):\n",
    "    \"\"\"\n",
    "    find genes with increased and decreased expression\n",
    "    \n",
    "    Parametrs\n",
    "    ---------\n",
    "    file: the path to the file with differential expression results (DESeq2, EdgeR)\n",
    "    logFC: a tuple with a lower and upper threshold for log2 fold change\n",
    "    pvalue: threshold for pvalue\n",
    "    \n",
    "    Return\n",
    "    ------\n",
    "    a tuple with 2 lists: 1) list of genes with increased expression - genes with a logarithm of the fold change greater than \n",
    "                            set upper threshold for logFC, pvalue less than threshold for pvalue\n",
    "                          2) list of genes with reduced  expression - genes with a logarithm of the fold change less than \n",
    "                            set lower threshold for logFC, pvalue less than threshold for pvalue\n",
    "    Each list of genes is sorted decrease of the modulo the logarithm of the fold change and sorted by increasing pvalue.\n",
    "    \"\"\"\n",
    "    Dif_exp = pd.read_table(file, sep = '\\t')\n",
    "    \n",
    "    if ('logFC' in Dif_exp.columns.tolist()) & ('PValue' in Dif_exp.columns.tolist()):# названия столбцов 'logFC', PValue' характерны для edgeR\n",
    "        Dif_exp_up = Dif_exp[(Dif_exp['logFC'] > logFC[1]) & (Dif_exp['PValue'] < pvalue)]\n",
    "        Dif_exp_up = Dif_exp_up.sort_values(by = ['logFC', 'PValue'], ascending= [False, True])\n",
    "        Dif_exp_down = Dif_exp[(Dif_exp['logFC'] < logFC[0]) & (Dif_exp['PValue'] < pvalue)]\n",
    "        Dif_exp_down = Dif_exp_down.sort_values(by = ['logFC', 'PValue'], ascending = [True, True])\n",
    "        Dif_exp_up_genes = Dif_exp_up['logFC']\n",
    "        Dif_exp_down_genes = Dif_exp_down['logFC']\n",
    "    elif ('log2FoldChange' in Dif_exp.columns.tolist()) & ('pvalue' in Dif_exp.columns.tolist()):# названия столбцов 'log2FoldChange', 'pvalue' характерны для DESeq2\n",
    "        Dif_exp_up = Dif_exp[(Dif_exp['log2FoldChange'] > logFC[1]) & (Dif_exp['pvalue'] < pvalue)]\n",
    "        Dif_exp_up = Dif_exp_up.sort_values(by = ['log2FoldChange', 'pvalue'], ascending = [False, True])\n",
    "        Dif_exp_down = Dif_exp[(Dif_exp['log2FoldChange'] < logFC[0]) & (Dif_exp['pvalue'] < pvalue)]\n",
    "        Dif_exp_down = Dif_exp_down.sort_values(by = ['log2FoldChange', 'pvalue'], ascending = [True, True])\n",
    "        Dif_exp_up_genes = Dif_exp_up['log2FoldChange']\n",
    "        Dif_exp_down_genes = Dif_exp_down['log2FoldChange']\n",
    "        \n",
    "\n",
    "    return (Dif_exp_up_genes, Dif_exp_down_genes)"
   ]
  },
  {
   "cell_type": "markdown",
   "metadata": {},
   "source": [
    "Для примера посмотрим на результаты анализа дифференциальной экспрессии для образцов клеток сердца и фибробластов c помощью edgeR."
   ]
  },
  {
   "cell_type": "markdown",
   "metadata": {},
   "source": [
    "Посмотрим сам файл с результатами."
   ]
  },
  {
   "cell_type": "code",
   "execution_count": 3,
   "metadata": {},
   "outputs": [
    {
     "data": {
      "text/html": [
       "<div>\n",
       "<style scoped>\n",
       "    .dataframe tbody tr th:only-of-type {\n",
       "        vertical-align: middle;\n",
       "    }\n",
       "\n",
       "    .dataframe tbody tr th {\n",
       "        vertical-align: top;\n",
       "    }\n",
       "\n",
       "    .dataframe thead th {\n",
       "        text-align: right;\n",
       "    }\n",
       "</style>\n",
       "<table border=\"1\" class=\"dataframe\">\n",
       "  <thead>\n",
       "    <tr style=\"text-align: right;\">\n",
       "      <th></th>\n",
       "      <th>logFC</th>\n",
       "      <th>logCPM</th>\n",
       "      <th>PValue</th>\n",
       "    </tr>\n",
       "  </thead>\n",
       "  <tbody>\n",
       "    <tr>\n",
       "      <th>A1BG</th>\n",
       "      <td>-1.616721</td>\n",
       "      <td>3.216281</td>\n",
       "      <td>3.648526e-26</td>\n",
       "    </tr>\n",
       "    <tr>\n",
       "      <th>A1CF</th>\n",
       "      <td>0.733942</td>\n",
       "      <td>-1.202507</td>\n",
       "      <td>2.740174e-04</td>\n",
       "    </tr>\n",
       "    <tr>\n",
       "      <th>A2M</th>\n",
       "      <td>3.911215</td>\n",
       "      <td>8.547616</td>\n",
       "      <td>7.819607e-114</td>\n",
       "    </tr>\n",
       "    <tr>\n",
       "      <th>A2ML1</th>\n",
       "      <td>-1.043900</td>\n",
       "      <td>0.707597</td>\n",
       "      <td>2.489561e-12</td>\n",
       "    </tr>\n",
       "    <tr>\n",
       "      <th>A2MP1</th>\n",
       "      <td>6.370985</td>\n",
       "      <td>1.889518</td>\n",
       "      <td>2.858788e-226</td>\n",
       "    </tr>\n",
       "  </tbody>\n",
       "</table>\n",
       "</div>"
      ],
      "text/plain": [
       "          logFC    logCPM         PValue\n",
       "A1BG  -1.616721  3.216281   3.648526e-26\n",
       "A1CF   0.733942 -1.202507   2.740174e-04\n",
       "A2M    3.911215  8.547616  7.819607e-114\n",
       "A2ML1 -1.043900  0.707597   2.489561e-12\n",
       "A2MP1  6.370985  1.889518  2.858788e-226"
      ]
     },
     "execution_count": 3,
     "metadata": {},
     "output_type": "execute_result"
    }
   ],
   "source": [
    "data = pd.read_table('DATA/DE_heart_fibroblast/DE_with_edgeR_for_heart_fibroblast.txt', sep = '\\t')\n",
    "data.head()"
   ]
  },
  {
   "cell_type": "markdown",
   "metadata": {},
   "source": [
    "Определим гены с повышенной и пониженной экспрессией."
   ]
  },
  {
   "cell_type": "code",
   "execution_count": 42,
   "metadata": {},
   "outputs": [
    {
     "data": {
      "text/plain": [
       "(5290,)"
      ]
     },
     "execution_count": 42,
     "metadata": {},
     "output_type": "execute_result"
    }
   ],
   "source": [
    "data_up_genes, data_down_genes = make_signature_from_DE('DATA/DE_heart_fibroblast/DE_with_edgeR_for_heart_fibroblast.txt',  logFC = (-1.5, 1.5), pvalue = 0.01)\n",
    "data_up_genes.shape"
   ]
  },
  {
   "cell_type": "code",
   "execution_count": 18,
   "metadata": {},
   "outputs": [
    {
     "data": {
      "text/plain": [
       "MYH7      18.790898\n",
       "MYL2      17.093563\n",
       "MYH6      16.669100\n",
       "MB        15.254694\n",
       "MYBPC3    15.228322\n",
       "Name: logFC, dtype: float64"
      ]
     },
     "execution_count": 18,
     "metadata": {},
     "output_type": "execute_result"
    }
   ],
   "source": [
    "data_up_genes.head()"
   ]
  },
  {
   "cell_type": "code",
   "execution_count": 44,
   "metadata": {},
   "outputs": [
    {
     "data": {
      "text/html": [
       "<div>\n",
       "<style scoped>\n",
       "    .dataframe tbody tr th:only-of-type {\n",
       "        vertical-align: middle;\n",
       "    }\n",
       "\n",
       "    .dataframe tbody tr th {\n",
       "        vertical-align: top;\n",
       "    }\n",
       "\n",
       "    .dataframe thead th {\n",
       "        text-align: right;\n",
       "    }\n",
       "</style>\n",
       "<table border=\"1\" class=\"dataframe\">\n",
       "  <thead>\n",
       "    <tr style=\"text-align: right;\">\n",
       "      <th></th>\n",
       "      <th>logFC</th>\n",
       "    </tr>\n",
       "  </thead>\n",
       "  <tbody>\n",
       "    <tr>\n",
       "      <th>MYH7</th>\n",
       "      <td>18.790898</td>\n",
       "    </tr>\n",
       "    <tr>\n",
       "      <th>MYL2</th>\n",
       "      <td>17.093563</td>\n",
       "    </tr>\n",
       "    <tr>\n",
       "      <th>MYH6</th>\n",
       "      <td>16.669100</td>\n",
       "    </tr>\n",
       "    <tr>\n",
       "      <th>MB</th>\n",
       "      <td>15.254694</td>\n",
       "    </tr>\n",
       "    <tr>\n",
       "      <th>MYBPC3</th>\n",
       "      <td>15.228322</td>\n",
       "    </tr>\n",
       "  </tbody>\n",
       "</table>\n",
       "</div>"
      ],
      "text/plain": [
       "            logFC\n",
       "MYH7    18.790898\n",
       "MYL2    17.093563\n",
       "MYH6    16.669100\n",
       "MB      15.254694\n",
       "MYBPC3  15.228322"
      ]
     },
     "execution_count": 44,
     "metadata": {},
     "output_type": "execute_result"
    }
   ],
   "source": [
    "data_up_genes = pd.DataFrame(data_up_genes)\n",
    "data_up_genes.head()"
   ]
  },
  {
   "cell_type": "code",
   "execution_count": 21,
   "metadata": {},
   "outputs": [
    {
     "data": {
      "text/html": [
       "<div>\n",
       "<style scoped>\n",
       "    .dataframe tbody tr th:only-of-type {\n",
       "        vertical-align: middle;\n",
       "    }\n",
       "\n",
       "    .dataframe tbody tr th {\n",
       "        vertical-align: top;\n",
       "    }\n",
       "\n",
       "    .dataframe thead th {\n",
       "        text-align: right;\n",
       "    }\n",
       "</style>\n",
       "<table border=\"1\" class=\"dataframe\">\n",
       "  <thead>\n",
       "    <tr style=\"text-align: right;\">\n",
       "      <th></th>\n",
       "      <th>betweenness</th>\n",
       "      <th>pagerank</th>\n",
       "      <th>closeness</th>\n",
       "      <th>katz</th>\n",
       "      <th>hits_authority</th>\n",
       "      <th>hits_hub</th>\n",
       "      <th>eigenvector</th>\n",
       "    </tr>\n",
       "  </thead>\n",
       "  <tbody>\n",
       "    <tr>\n",
       "      <th>MYH7</th>\n",
       "      <td>0.000318</td>\n",
       "      <td>0.002122</td>\n",
       "      <td>0.166280</td>\n",
       "      <td>0.023405</td>\n",
       "      <td>1.383970e-06</td>\n",
       "      <td>1.383970e-06</td>\n",
       "      <td>1.406593e-06</td>\n",
       "    </tr>\n",
       "    <tr>\n",
       "      <th>MYL2</th>\n",
       "      <td>0.000000</td>\n",
       "      <td>0.001015</td>\n",
       "      <td>0.142857</td>\n",
       "      <td>0.022700</td>\n",
       "      <td>1.918408e-07</td>\n",
       "      <td>1.918408e-07</td>\n",
       "      <td>1.968299e-07</td>\n",
       "    </tr>\n",
       "    <tr>\n",
       "      <th>MYH6</th>\n",
       "      <td>0.000000</td>\n",
       "      <td>0.001253</td>\n",
       "      <td>0.165895</td>\n",
       "      <td>0.022954</td>\n",
       "      <td>1.342001e-06</td>\n",
       "      <td>1.342001e-06</td>\n",
       "      <td>1.363082e-06</td>\n",
       "    </tr>\n",
       "    <tr>\n",
       "      <th>MB</th>\n",
       "      <td>0.000000</td>\n",
       "      <td>0.000212</td>\n",
       "      <td>NaN</td>\n",
       "      <td>0.022237</td>\n",
       "      <td>0.000000e+00</td>\n",
       "      <td>0.000000e+00</td>\n",
       "      <td>0.000000e+00</td>\n",
       "    </tr>\n",
       "    <tr>\n",
       "      <th>MYBPC3</th>\n",
       "      <td>0.000000</td>\n",
       "      <td>0.000212</td>\n",
       "      <td>NaN</td>\n",
       "      <td>0.022237</td>\n",
       "      <td>0.000000e+00</td>\n",
       "      <td>0.000000e+00</td>\n",
       "      <td>0.000000e+00</td>\n",
       "    </tr>\n",
       "  </tbody>\n",
       "</table>\n",
       "</div>"
      ],
      "text/plain": [
       "        betweenness  pagerank  closeness      katz  hits_authority  \\\n",
       "MYH7       0.000318  0.002122   0.166280  0.023405    1.383970e-06   \n",
       "MYL2       0.000000  0.001015   0.142857  0.022700    1.918408e-07   \n",
       "MYH6       0.000000  0.001253   0.165895  0.022954    1.342001e-06   \n",
       "MB         0.000000  0.000212        NaN  0.022237    0.000000e+00   \n",
       "MYBPC3     0.000000  0.000212        NaN  0.022237    0.000000e+00   \n",
       "\n",
       "            hits_hub   eigenvector  \n",
       "MYH7    1.383970e-06  1.406593e-06  \n",
       "MYL2    1.918408e-07  1.968299e-07  \n",
       "MYH6    1.342001e-06  1.363082e-06  \n",
       "MB      0.000000e+00  0.000000e+00  \n",
       "MYBPC3  0.000000e+00  0.000000e+00  "
      ]
     },
     "execution_count": 21,
     "metadata": {},
     "output_type": "execute_result"
    }
   ],
   "source": [
    "data_up = pd.read_csv('DATA/protein_network/df_topolog_metrics_up.csv', index_col = 0)\n",
    "data_up.head()"
   ]
  },
  {
   "cell_type": "code",
   "execution_count": 43,
   "metadata": {},
   "outputs": [
    {
     "data": {
      "text/plain": [
       "(2000, 7)"
      ]
     },
     "execution_count": 43,
     "metadata": {},
     "output_type": "execute_result"
    }
   ],
   "source": [
    "data_up.shape"
   ]
  },
  {
   "cell_type": "code",
   "execution_count": 45,
   "metadata": {},
   "outputs": [],
   "source": [
    "data = data_up_genes.merge(data_up, how='left', left_index = True, right_index = True)"
   ]
  },
  {
   "cell_type": "code",
   "execution_count": 58,
   "metadata": {},
   "outputs": [
    {
     "data": {
      "text/html": [
       "<div>\n",
       "<style scoped>\n",
       "    .dataframe tbody tr th:only-of-type {\n",
       "        vertical-align: middle;\n",
       "    }\n",
       "\n",
       "    .dataframe tbody tr th {\n",
       "        vertical-align: top;\n",
       "    }\n",
       "\n",
       "    .dataframe thead th {\n",
       "        text-align: right;\n",
       "    }\n",
       "</style>\n",
       "<table border=\"1\" class=\"dataframe\">\n",
       "  <thead>\n",
       "    <tr style=\"text-align: right;\">\n",
       "      <th></th>\n",
       "      <th>logFC</th>\n",
       "      <th>betweenness</th>\n",
       "      <th>pagerank</th>\n",
       "      <th>closeness</th>\n",
       "      <th>katz</th>\n",
       "      <th>hits_authority</th>\n",
       "      <th>hits_hub</th>\n",
       "      <th>eigenvector</th>\n",
       "    </tr>\n",
       "  </thead>\n",
       "  <tbody>\n",
       "    <tr>\n",
       "      <th>MYH7</th>\n",
       "      <td>18.790898</td>\n",
       "      <td>0.000318</td>\n",
       "      <td>0.002122</td>\n",
       "      <td>0.166280</td>\n",
       "      <td>0.023405</td>\n",
       "      <td>1.383970e-06</td>\n",
       "      <td>1.383970e-06</td>\n",
       "      <td>1.406593e-06</td>\n",
       "    </tr>\n",
       "    <tr>\n",
       "      <th>MYL2</th>\n",
       "      <td>17.093563</td>\n",
       "      <td>0.000000</td>\n",
       "      <td>0.001015</td>\n",
       "      <td>0.142857</td>\n",
       "      <td>0.022700</td>\n",
       "      <td>1.918408e-07</td>\n",
       "      <td>1.918408e-07</td>\n",
       "      <td>1.968299e-07</td>\n",
       "    </tr>\n",
       "    <tr>\n",
       "      <th>MYH6</th>\n",
       "      <td>16.669100</td>\n",
       "      <td>0.000000</td>\n",
       "      <td>0.001253</td>\n",
       "      <td>0.165895</td>\n",
       "      <td>0.022954</td>\n",
       "      <td>1.342001e-06</td>\n",
       "      <td>1.342001e-06</td>\n",
       "      <td>1.363082e-06</td>\n",
       "    </tr>\n",
       "    <tr>\n",
       "      <th>MB</th>\n",
       "      <td>15.254694</td>\n",
       "      <td>0.000000</td>\n",
       "      <td>0.000212</td>\n",
       "      <td>NaN</td>\n",
       "      <td>0.022237</td>\n",
       "      <td>0.000000e+00</td>\n",
       "      <td>0.000000e+00</td>\n",
       "      <td>0.000000e+00</td>\n",
       "    </tr>\n",
       "    <tr>\n",
       "      <th>MYBPC3</th>\n",
       "      <td>15.228322</td>\n",
       "      <td>0.000000</td>\n",
       "      <td>0.000212</td>\n",
       "      <td>NaN</td>\n",
       "      <td>0.022237</td>\n",
       "      <td>0.000000e+00</td>\n",
       "      <td>0.000000e+00</td>\n",
       "      <td>0.000000e+00</td>\n",
       "    </tr>\n",
       "  </tbody>\n",
       "</table>\n",
       "</div>"
      ],
      "text/plain": [
       "            logFC  betweenness  pagerank  closeness      katz  hits_authority  \\\n",
       "MYH7    18.790898     0.000318  0.002122   0.166280  0.023405    1.383970e-06   \n",
       "MYL2    17.093563     0.000000  0.001015   0.142857  0.022700    1.918408e-07   \n",
       "MYH6    16.669100     0.000000  0.001253   0.165895  0.022954    1.342001e-06   \n",
       "MB      15.254694     0.000000  0.000212        NaN  0.022237    0.000000e+00   \n",
       "MYBPC3  15.228322     0.000000  0.000212        NaN  0.022237    0.000000e+00   \n",
       "\n",
       "            hits_hub   eigenvector  \n",
       "MYH7    1.383970e-06  1.406593e-06  \n",
       "MYL2    1.918408e-07  1.968299e-07  \n",
       "MYH6    1.342001e-06  1.363082e-06  \n",
       "MB      0.000000e+00  0.000000e+00  \n",
       "MYBPC3  0.000000e+00  0.000000e+00  "
      ]
     },
     "execution_count": 58,
     "metadata": {},
     "output_type": "execute_result"
    }
   ],
   "source": [
    "data.head()"
   ]
  },
  {
   "cell_type": "code",
   "execution_count": 61,
   "metadata": {},
   "outputs": [],
   "source": [
    "data[\"inf_score\"] = np.ones(data.shape[0])"
   ]
  },
  {
   "cell_type": "code",
   "execution_count": 62,
   "metadata": {},
   "outputs": [
    {
     "data": {
      "text/html": [
       "<div>\n",
       "<style scoped>\n",
       "    .dataframe tbody tr th:only-of-type {\n",
       "        vertical-align: middle;\n",
       "    }\n",
       "\n",
       "    .dataframe tbody tr th {\n",
       "        vertical-align: top;\n",
       "    }\n",
       "\n",
       "    .dataframe thead th {\n",
       "        text-align: right;\n",
       "    }\n",
       "</style>\n",
       "<table border=\"1\" class=\"dataframe\">\n",
       "  <thead>\n",
       "    <tr style=\"text-align: right;\">\n",
       "      <th></th>\n",
       "      <th>logFC</th>\n",
       "      <th>betweenness</th>\n",
       "      <th>pagerank</th>\n",
       "      <th>closeness</th>\n",
       "      <th>katz</th>\n",
       "      <th>hits_authority</th>\n",
       "      <th>hits_hub</th>\n",
       "      <th>eigenvector</th>\n",
       "      <th>inf_score</th>\n",
       "    </tr>\n",
       "  </thead>\n",
       "  <tbody>\n",
       "    <tr>\n",
       "      <th>MYH7</th>\n",
       "      <td>18.790898</td>\n",
       "      <td>0.000318</td>\n",
       "      <td>0.002122</td>\n",
       "      <td>0.166280</td>\n",
       "      <td>0.023405</td>\n",
       "      <td>1.383970e-06</td>\n",
       "      <td>1.383970e-06</td>\n",
       "      <td>1.406593e-06</td>\n",
       "      <td>1.0</td>\n",
       "    </tr>\n",
       "    <tr>\n",
       "      <th>MYL2</th>\n",
       "      <td>17.093563</td>\n",
       "      <td>0.000000</td>\n",
       "      <td>0.001015</td>\n",
       "      <td>0.142857</td>\n",
       "      <td>0.022700</td>\n",
       "      <td>1.918408e-07</td>\n",
       "      <td>1.918408e-07</td>\n",
       "      <td>1.968299e-07</td>\n",
       "      <td>1.0</td>\n",
       "    </tr>\n",
       "    <tr>\n",
       "      <th>MYH6</th>\n",
       "      <td>16.669100</td>\n",
       "      <td>0.000000</td>\n",
       "      <td>0.001253</td>\n",
       "      <td>0.165895</td>\n",
       "      <td>0.022954</td>\n",
       "      <td>1.342001e-06</td>\n",
       "      <td>1.342001e-06</td>\n",
       "      <td>1.363082e-06</td>\n",
       "      <td>1.0</td>\n",
       "    </tr>\n",
       "    <tr>\n",
       "      <th>MB</th>\n",
       "      <td>15.254694</td>\n",
       "      <td>0.000000</td>\n",
       "      <td>0.000212</td>\n",
       "      <td>NaN</td>\n",
       "      <td>0.022237</td>\n",
       "      <td>0.000000e+00</td>\n",
       "      <td>0.000000e+00</td>\n",
       "      <td>0.000000e+00</td>\n",
       "      <td>1.0</td>\n",
       "    </tr>\n",
       "    <tr>\n",
       "      <th>MYBPC3</th>\n",
       "      <td>15.228322</td>\n",
       "      <td>0.000000</td>\n",
       "      <td>0.000212</td>\n",
       "      <td>NaN</td>\n",
       "      <td>0.022237</td>\n",
       "      <td>0.000000e+00</td>\n",
       "      <td>0.000000e+00</td>\n",
       "      <td>0.000000e+00</td>\n",
       "      <td>1.0</td>\n",
       "    </tr>\n",
       "  </tbody>\n",
       "</table>\n",
       "</div>"
      ],
      "text/plain": [
       "            logFC  betweenness  pagerank  closeness      katz  hits_authority  \\\n",
       "MYH7    18.790898     0.000318  0.002122   0.166280  0.023405    1.383970e-06   \n",
       "MYL2    17.093563     0.000000  0.001015   0.142857  0.022700    1.918408e-07   \n",
       "MYH6    16.669100     0.000000  0.001253   0.165895  0.022954    1.342001e-06   \n",
       "MB      15.254694     0.000000  0.000212        NaN  0.022237    0.000000e+00   \n",
       "MYBPC3  15.228322     0.000000  0.000212        NaN  0.022237    0.000000e+00   \n",
       "\n",
       "            hits_hub   eigenvector  inf_score  \n",
       "MYH7    1.383970e-06  1.406593e-06        1.0  \n",
       "MYL2    1.918408e-07  1.968299e-07        1.0  \n",
       "MYH6    1.342001e-06  1.363082e-06        1.0  \n",
       "MB      0.000000e+00  0.000000e+00        1.0  \n",
       "MYBPC3  0.000000e+00  0.000000e+00        1.0  "
      ]
     },
     "execution_count": 62,
     "metadata": {},
     "output_type": "execute_result"
    }
   ],
   "source": [
    "data.head()"
   ]
  },
  {
   "cell_type": "code",
   "execution_count": 60,
   "metadata": {},
   "outputs": [
    {
     "data": {
      "text/plain": [
       "['logFC',\n",
       " 'betweenness',\n",
       " 'pagerank',\n",
       " 'closeness',\n",
       " 'katz',\n",
       " 'hits_authority',\n",
       " 'hits_hub',\n",
       " 'eigenvector']"
      ]
     },
     "execution_count": 60,
     "metadata": {},
     "output_type": "execute_result"
    }
   ],
   "source": [
    "list(data.columns)"
   ]
  },
  {
   "cell_type": "code",
   "execution_count": 57,
   "metadata": {},
   "outputs": [
    {
     "ename": "ValueError",
     "evalue": "The truth value of a DataFrame is ambiguous. Use a.empty, a.bool(), a.item(), a.any() or a.all().",
     "output_type": "error",
     "traceback": [
      "\u001b[0;31m---------------------------------------------------------------------------\u001b[0m",
      "\u001b[0;31mValueError\u001b[0m                                Traceback (most recent call last)",
      "\u001b[0;32m<ipython-input-57-a6117ec5ccae>\u001b[0m in \u001b[0;36m<module>\u001b[0;34m\u001b[0m\n\u001b[0;32m----> 1\u001b[0;31m \u001b[0mdata\u001b[0m\u001b[0;34m[\u001b[0m\u001b[0;32mnot\u001b[0m\u001b[0;34m(\u001b[0m\u001b[0mdata\u001b[0m\u001b[0;34m.\u001b[0m\u001b[0miloc\u001b[0m\u001b[0;34m[\u001b[0m\u001b[0;36m5200\u001b[0m\u001b[0;34m:\u001b[0m\u001b[0;36m5230\u001b[0m\u001b[0;34m,\u001b[0m \u001b[0;36m2\u001b[0m\u001b[0;34m:\u001b[0m\u001b[0;34m]\u001b[0m\u001b[0;34m.\u001b[0m\u001b[0misna\u001b[0m\u001b[0;34m(\u001b[0m\u001b[0;34m)\u001b[0m\u001b[0;34m)\u001b[0m\u001b[0;34m]\u001b[0m\u001b[0;34m\u001b[0m\u001b[0;34m\u001b[0m\u001b[0m\n\u001b[0m",
      "\u001b[0;32m~/.local/lib/python3.8/site-packages/pandas/core/generic.py\u001b[0m in \u001b[0;36m__nonzero__\u001b[0;34m(self)\u001b[0m\n\u001b[1;32m   1327\u001b[0m \u001b[0;34m\u001b[0m\u001b[0m\n\u001b[1;32m   1328\u001b[0m     \u001b[0;32mdef\u001b[0m \u001b[0m__nonzero__\u001b[0m\u001b[0;34m(\u001b[0m\u001b[0mself\u001b[0m\u001b[0;34m)\u001b[0m\u001b[0;34m:\u001b[0m\u001b[0;34m\u001b[0m\u001b[0;34m\u001b[0m\u001b[0m\n\u001b[0;32m-> 1329\u001b[0;31m         raise ValueError(\n\u001b[0m\u001b[1;32m   1330\u001b[0m             \u001b[0;34mf\"The truth value of a {type(self).__name__} is ambiguous. \"\u001b[0m\u001b[0;34m\u001b[0m\u001b[0;34m\u001b[0m\u001b[0m\n\u001b[1;32m   1331\u001b[0m             \u001b[0;34m\"Use a.empty, a.bool(), a.item(), a.any() or a.all().\"\u001b[0m\u001b[0;34m\u001b[0m\u001b[0;34m\u001b[0m\u001b[0m\n",
      "\u001b[0;31mValueError\u001b[0m: The truth value of a DataFrame is ambiguous. Use a.empty, a.bool(), a.item(), a.any() or a.all()."
     ]
    }
   ],
   "source": [
    "data[not(data.iloc[5200:5230, 2:].isna())]"
   ]
  },
  {
   "cell_type": "code",
   "execution_count": 37,
   "metadata": {},
   "outputs": [
    {
     "data": {
      "text/plain": [
       "logFC             5.393339\n",
       "betweenness            NaN\n",
       "pagerank               NaN\n",
       "closeness              NaN\n",
       "katz                   NaN\n",
       "hits_authority         NaN\n",
       "hits_hub               NaN\n",
       "eigenvector            NaN\n",
       "Name: AC000374.1, dtype: float64"
      ]
     },
     "execution_count": 37,
     "metadata": {},
     "output_type": "execute_result"
    }
   ],
   "source": [
    "data.loc['AC000374.1']"
   ]
  },
  {
   "cell_type": "code",
   "execution_count": null,
   "metadata": {},
   "outputs": [],
   "source": [
    "data_up_genes[]"
   ]
  },
  {
   "cell_type": "code",
   "execution_count": 9,
   "metadata": {},
   "outputs": [
    {
     "data": {
      "text/plain": [
       "(6770,)"
      ]
     },
     "execution_count": 9,
     "metadata": {},
     "output_type": "execute_result"
    }
   ],
   "source": [
    "data_down_genes.shape"
   ]
  },
  {
   "cell_type": "code",
   "execution_count": 11,
   "metadata": {},
   "outputs": [
    {
     "data": {
      "text/plain": [
       "MMP3       -12.660765\n",
       "KRTAP2-3   -11.717598\n",
       "KRTAP1-5   -11.404216\n",
       "KRT34      -11.160330\n",
       "TERT       -10.020205\n",
       "Name: logFC, dtype: float64"
      ]
     },
     "execution_count": 11,
     "metadata": {},
     "output_type": "execute_result"
    }
   ],
   "source": [
    "data_down_genes.head()"
   ]
  },
  {
   "cell_type": "code",
   "execution_count": 15,
   "metadata": {},
   "outputs": [],
   "source": [
    "data_up_genes = list(data_up_genes.index)"
   ]
  },
  {
   "cell_type": "code",
   "execution_count": 16,
   "metadata": {},
   "outputs": [],
   "source": [
    "data_down_genes = list(data_down_genes.index)"
   ]
  },
  {
   "cell_type": "markdown",
   "metadata": {},
   "source": [
    "Сделаем API запрос."
   ]
  },
  {
   "cell_type": "code",
   "execution_count": 6,
   "metadata": {},
   "outputs": [],
   "source": [
    "url = 'https://maayanlab.cloud/L1000CDS2/query'\n",
    "def upperGenes(genes):\n",
    "    # The app uses uppercase gene symbols. So it is crucial to perform upperGenes() step.\n",
    "    return [gene.upper() for gene in genes]\n",
    "\n",
    "# gene-set search example\n",
    "data = {\"upGenes\": data_up_genes,\n",
    "        \"dnGenes\": data_down_genes}\n",
    "data['upGenes'] = upperGenes(data['upGenes'])\n",
    "data['dnGenes'] = upperGenes(data['dnGenes'])\n",
    "config = {\"aggravate\": True, \"searchMethod\": \"geneSet\",\n",
    "          \"share\": True, \"combination\": True,\n",
    "          \"db-version\": \"latest\"}\n",
    "\n",
    "#metadata = [{\"key\": \"Tag\", \"value\": \"gene-set python example\"}, {\"key\": \"Cell\", \"value\": \"MCF7\"}]\n",
    "payload = {\"data\": data, \"config\": config}\n",
    "headers = {'content-type': 'application/json'}\n",
    "r = requests.post(url, data=json.dumps(payload), headers = headers)\n",
    "resGeneSet = r.json()"
   ]
  },
  {
   "cell_type": "markdown",
   "metadata": {},
   "source": [
    "Посмотрим perturbation name, PubChem ID, combinations."
   ]
  },
  {
   "cell_type": "code",
   "execution_count": 7,
   "metadata": {},
   "outputs": [
    {
     "name": "stdout",
     "output_type": "stream",
     "text": [
      "PP-110\n",
      "PP-110\n",
      "PLX-4032\n",
      "AS605240\n",
      "-666\n",
      "BMS-536924\n",
      "AS605240\n",
      "BMS-536924\n",
      "canertinib\n",
      "-666\n",
      "selumetinib\n",
      "PD-184352\n",
      "PLX-4720\n",
      "canertinib\n",
      "TG101348\n",
      "TG101348\n",
      "trametinib\n",
      "PLX-4032\n",
      "AZD-8330\n",
      "PD-0325901\n",
      "-666\n",
      "palbociclib\n",
      "-666\n",
      "PD-0325901\n",
      "selumetinib\n",
      "PHA-665752\n",
      "selumetinib\n",
      "BMS-754807\n",
      "trametinib\n",
      "BMS-536924\n",
      "-666\n",
      "PHA-793887\n",
      "TGX-221\n",
      "trametinib\n",
      "trametinib\n",
      "PD-0325901\n",
      "palbociclib\n",
      "PD-184352\n",
      "foretinib\n",
      "PD-0325901\n",
      "PD-0325901\n",
      "vorinostat\n",
      "erlotinib\n",
      "gefitinib\n",
      "QUINACRINE HYDROCHLORIDE\n",
      "AZD-8330\n",
      "PD-0325901\n",
      "palbociclib\n",
      "selumetinib\n",
      "Nutlin-3\n"
     ]
    }
   ],
   "source": [
    "try:\n",
    "    for i in resGeneSet['topMeta']:\n",
    "        if 'pert_desc' in i:\n",
    "            print(i['pert_desc'])\n",
    "except KeyError:\n",
    "    print(\"В запросе нет данного ключа\")"
   ]
  },
  {
   "cell_type": "code",
   "execution_count": 8,
   "metadata": {},
   "outputs": [
    {
     "name": "stdout",
     "output_type": "stream",
     "text": [
      "BRD-K03618428\n",
      "BRD-K03618428\n",
      "BRD-K56343971\n",
      "BRD-K41895714\n",
      "BRD-K57080016\n",
      "BRD-K34581968\n",
      "BRD-K41895714\n",
      "BRD-K34581968\n",
      "BRD-K50168500\n",
      "BRD-K53414658\n",
      "BRD-K57080016\n",
      "BRD-K05104363\n",
      "BRD-K16478699\n",
      "BRD-K50168500\n",
      "BRD-K12502280\n",
      "BRD-K12502280\n",
      "BRD-K12343256\n",
      "BRD-K56343971\n",
      "BRD-K37687095\n",
      "BRD-K49865102\n",
      "BRD-K68548958\n",
      "BRD-K51313569\n",
      "BRD-K57080016\n",
      "BRD-K49865102\n",
      "BRD-K57080016\n",
      "BRD-K95435023\n",
      "BRD-K57080016\n",
      "BRD-K13049116\n",
      "BRD-K12343256\n",
      "BRD-K34581968\n",
      "BRD-K98490050\n",
      "BRD-K64800655\n",
      "BRD-A41692738\n",
      "BRD-K12343256\n",
      "BRD-K12343256\n",
      "BRD-K49865102\n",
      "BRD-K51313569\n",
      "BRD-K05104363\n",
      "BRD-K03449891\n",
      "BRD-K49865102\n",
      "BRD-K49865102\n",
      "BRD-K81418486\n",
      "BRD-K70401845\n",
      "BRD-K64052750\n",
      "BRD-A45889380\n",
      "BRD-K37687095\n",
      "BRD-K49865102\n",
      "BRD-K51313569\n",
      "BRD-K57080016\n",
      "BRD-A12230535\n"
     ]
    }
   ],
   "source": [
    "try:\n",
    "    for i in resGeneSet['topMeta']:\n",
    "        if 'pert_id' in i:\n",
    "            print(i['pert_id'])\n",
    "except KeyError:\n",
    "    print(\"В запросе нет данного ключа\")"
   ]
  },
  {
   "cell_type": "code",
   "execution_count": 9,
   "metadata": {},
   "outputs": [
    {
     "name": "stdout",
     "output_type": "stream",
     "text": [
      "24905203\n",
      "24905203\n",
      "42611257\n",
      "10377751\n",
      "10127622\n",
      "11353973\n",
      "10377751\n",
      "11353973\n",
      "156414\n",
      "9911830\n",
      "10127622\n",
      "6918454\n",
      "24180719\n",
      "156414\n",
      "16722836\n",
      "16722836\n",
      "11707110\n",
      "42611257\n",
      "16666708\n",
      "9826528\n",
      "1285940\n",
      "5330286\n",
      "10127622\n",
      "9826528\n",
      "10127622\n",
      "10461815\n",
      "10127622\n",
      "24785538\n",
      "11707110\n",
      "11353973\n",
      "3926765\n",
      "46191454\n",
      "9907093\n",
      "11707110\n",
      "11707110\n",
      "9826528\n",
      "5330286\n",
      "6918454\n",
      "42642645\n",
      "9826528\n",
      "9826528\n",
      "5311\n",
      "176871\n",
      "123631\n",
      "23581813\n",
      "16666708\n",
      "9826528\n",
      "5330286\n",
      "10127622\n",
      "216345\n"
     ]
    }
   ],
   "source": [
    "try:\n",
    "    for i in resGeneSet['topMeta']:\n",
    "        if 'pubchem_id' in i:\n",
    "            print(i['pubchem_id'])\n",
    "except KeyError:\n",
    "    print(\"В запросе нет данного ключа\")"
   ]
  },
  {
   "cell_type": "code",
   "execution_count": 10,
   "metadata": {},
   "outputs": [
    {
     "name": "stdout",
     "output_type": "stream",
     "text": [
      "{'X1': 'CPC006_HT29_24H:BRD-K03618428:22.2', 'X2': 'CPC006_HA1E_24H:BRD-K81418486:10.0', 'value': 0.0648}\n",
      "{'X1': 'CPC006_A375_24H:BRD-K03618428:22.2', 'X2': 'CPC006_HA1E_24H:BRD-K81418486:10.0', 'value': 0.0615}\n",
      "{'X1': 'CPC006_A375_24H:BRD-K56343971:10.0', 'X2': 'CPC006_HA1E_24H:BRD-K81418486:10.0', 'value': 0.0609}\n",
      "{'X1': 'CPC006_A375_24H:BRD-K57080016:80.0', 'X2': 'CPC006_HA1E_24H:BRD-K81418486:10.0', 'value': 0.0606}\n",
      "{'X1': 'CPC006_A375_24H:BRD-K41895714:10.0', 'X2': 'CPC006_HA1E_24H:BRD-K81418486:10.0', 'value': 0.0604}\n",
      "{'X1': 'CPC006_A375_24H:BRD-K34581968:11.1', 'X2': 'CPC006_HA1E_24H:BRD-K81418486:10.0', 'value': 0.06}\n",
      "{'X1': 'CPC006_HT29_24H:BRD-K41895714:10.0', 'X2': 'CPC006_HA1E_24H:BRD-K81418486:10.0', 'value': 0.0598}\n",
      "{'X1': 'CPC006_HT29_24H:BRD-K34581968:11.1', 'X2': 'CPC006_HA1E_24H:BRD-K81418486:10.0', 'value': 0.0585}\n",
      "{'X1': 'LJP005_HT29_24H:BRD-K05104363:10', 'X2': 'CPC006_HA1E_24H:BRD-K81418486:10.0', 'value': 0.0574}\n",
      "{'X1': 'CPC006_A375_24H:BRD-K53414658:10.0', 'X2': 'CPC006_HA1E_24H:BRD-K81418486:10.0', 'value': 0.0572}\n",
      "{'X1': 'CPC006_HT29_24H:BRD-K03618428:22.2', 'X2': 'LJP005_A375_24H:BRD-A41692738:0.37', 'value': 0.0558}\n",
      "{'X1': 'LJP006_A375_24H:BRD-K57080016:10', 'X2': 'CPC006_HA1E_24H:BRD-K81418486:10.0', 'value': 0.0558}\n",
      "{'X1': 'CPC006_HT29_24H:BRD-K03618428:22.2', 'X2': 'LJP006_A375_24H:BRD-K49865102:0.12', 'value': 0.0554}\n",
      "{'X1': 'LJP006_MCF10A_24H:BRD-K50168500:0.04', 'X2': 'CPC006_HA1E_24H:BRD-K81418486:10.0', 'value': 0.0554}\n",
      "{'X1': 'CPC006_A375_24H:BRD-K56343971:10.0', 'X2': 'LJP005_HT29_24H:BRD-K05104363:10', 'value': 0.0552}\n",
      "{'X1': 'LJP005_HT29_24H:BRD-K12343256:0.37', 'X2': 'CPC006_HA1E_24H:BRD-K81418486:10.0', 'value': 0.0552}\n",
      "{'X1': 'CPC006_HT29_24H:BRD-K56343971:10.0', 'X2': 'CPC006_HA1E_24H:BRD-K81418486:10.0', 'value': 0.0552}\n",
      "{'X1': 'LJP005_HT29_24H:BRD-K49865102:0.12', 'X2': 'CPC006_HA1E_24H:BRD-K81418486:10.0', 'value': 0.0552}\n",
      "{'X1': 'LJP005_HT29_24H:BRD-K95435023:0.04', 'X2': 'CPC006_HA1E_24H:BRD-K81418486:10.0', 'value': 0.055}\n",
      "{'X1': 'CPC006_HT29_24H:BRD-K03618428:22.2', 'X2': 'CPC006_A375_24H:BRD-K56343971:10.0', 'value': 0.0548}\n",
      "{'X1': 'CPC006_HT29_24H:BRD-K03618428:22.2', 'X2': 'LJP006_A375_24H:BRD-K57080016:10', 'value': 0.0548}\n",
      "{'X1': 'CPC006_HT29_24H:BRD-K03618428:22.2', 'X2': 'CPC006_A375_24H:BRD-K41895714:10.0', 'value': 0.0547}\n",
      "{'X1': 'CPC006_A375_24H:BRD-K03618428:22.2', 'X2': 'LJP005_HT29_24H:BRD-K05104363:10', 'value': 0.0545}\n",
      "{'X1': 'CPC006_A375_24H:BRD-K41895714:10.0', 'X2': 'LJP005_HT29_24H:BRD-K05104363:10', 'value': 0.0545}\n",
      "{'X1': 'CPC006_A375_24H:BRD-K56343971:10.0', 'X2': 'LJP005_HT29_24H:BRD-K12343256:0.37', 'value': 0.0545}\n",
      "{'X1': 'CPC006_HT29_24H:BRD-K03618428:22.2', 'X2': 'LJP006_A375_24H:BRD-K57080016:3.33', 'value': 0.0545}\n",
      "{'X1': 'LJP005_A375_24H:BRD-K16478699:1.11', 'X2': 'CPC006_HA1E_24H:BRD-K81418486:10.0', 'value': 0.0545}\n",
      "{'X1': 'CPC006_MCF7_24H:BRD-K68548958:20.0', 'X2': 'CPC006_HA1E_24H:BRD-K81418486:10.0', 'value': 0.0545}\n",
      "{'X1': 'LJP006_MCF10A_24H:BRD-K50168500:3.33', 'X2': 'CPC006_HA1E_24H:BRD-K81418486:10.0', 'value': 0.0543}\n",
      "{'X1': 'LJP005_HT29_24H:BRD-K03449891:3.33', 'X2': 'CPC006_HA1E_24H:BRD-K81418486:10.0', 'value': 0.0543}\n",
      "{'X1': 'CPC006_HT29_24H:BRD-K03618428:22.2', 'X2': 'LJP005_A375_24H:BRD-K16478699:1.11', 'value': 0.0541}\n",
      "{'X1': 'CPC006_MCF7_24H:BRD-K34581968:11.1', 'X2': 'CPC006_HA1E_24H:BRD-K81418486:10.0', 'value': 0.0541}\n",
      "{'X1': 'LJP005_MCF10A_24H:BRD-K37687095:0.12', 'X2': 'CPC006_HA1E_24H:BRD-K81418486:10.0', 'value': 0.0539}\n",
      "{'X1': 'LJP006_BT20_24H:BRD-K51313569:0.37', 'X2': 'CPC006_HA1E_24H:BRD-K81418486:10.0', 'value': 0.0539}\n",
      "{'X1': 'CPC006_HCC515_24H:BRD-K57080016:80.0', 'X2': 'CPC006_HA1E_24H:BRD-K81418486:10.0', 'value': 0.0539}\n",
      "{'X1': 'CPC006_A375_24H:BRD-K56343971:10.0', 'X2': 'CPC006_HT29_24H:BRD-K41895714:10.0', 'value': 0.0536}\n",
      "{'X1': 'CPC006_A375_24H:BRD-K12502280:11.1', 'X2': 'CPC006_HA1E_24H:BRD-K81418486:10.0', 'value': 0.0536}\n",
      "{'X1': 'CPC006_MCF7_24H:BRD-K12502280:11.1', 'X2': 'CPC006_HA1E_24H:BRD-K81418486:10.0', 'value': 0.0536}\n",
      "{'X1': 'LJP006_MCF10A_24H:BRD-K57080016:1.11', 'X2': 'CPC006_HA1E_24H:BRD-K81418486:10.0', 'value': 0.0536}\n",
      "{'X1': 'CPC006_A375_24H:BRD-K41895714:10.0', 'X2': 'LJP005_HT29_24H:BRD-K12343256:0.37', 'value': 0.0534}\n",
      "{'X1': 'LJP006_A375_24H:BRD-K49865102:0.12', 'X2': 'CPC006_HA1E_24H:BRD-K81418486:10.0', 'value': 0.0532}\n",
      "{'X1': 'CPC006_A375_24H:BRD-K03618428:22.2', 'X2': 'LJP005_HT29_24H:BRD-K12343256:0.37', 'value': 0.053}\n",
      "{'X1': 'CPC006_A375_24H:BRD-K13049116:10.0', 'X2': 'CPC006_HA1E_24H:BRD-K81418486:10.0', 'value': 0.053}\n",
      "{'X1': 'LJP006_HCC515_24H:BRD-K64800655:3.33', 'X2': 'CPC006_HA1E_24H:BRD-K81418486:10.0', 'value': 0.053}\n",
      "{'X1': 'LJP006_HT29_24H:BRD-K51313569:0.37', 'X2': 'CPC006_HA1E_24H:BRD-K81418486:10.0', 'value': 0.053}\n",
      "{'X1': 'CPC006_A375_24H:BRD-K03618428:22.2', 'X2': 'CPC006_HT29_24H:BRD-K41895714:10.0', 'value': 0.0528}\n",
      "{'X1': 'CPC006_A375_24H:BRD-K03618428:22.2', 'X2': 'LJP005_HT29_24H:BRD-K95435023:0.04', 'value': 0.0528}\n",
      "{'X1': 'CPC006_HT29_24H:BRD-K03618428:22.2', 'X2': 'LJP006_MCF10A_24H:BRD-K50168500:0.04', 'value': 0.0526}\n",
      "{'X1': 'CPC006_HT29_24H:BRD-K03618428:22.2', 'X2': 'LJP005_A375_24H:BRD-K49865102:3.33', 'value': 0.0526}\n",
      "{'X1': 'CPC006_HT29_24H:BRD-K03618428:22.2', 'X2': 'LJP006_MCF10A_24H:BRD-K57080016:1.11', 'value': 0.0526}\n"
     ]
    }
   ],
   "source": [
    "try:\n",
    "    for i in resGeneSet['combinations']:\n",
    "        print(i)\n",
    "except KeyError:\n",
    "    print(\"В запросе нет данного ключа\")"
   ]
  }
 ],
 "metadata": {
  "kernelspec": {
   "display_name": "Python 3",
   "language": "python",
   "name": "python3"
  },
  "language_info": {
   "codemirror_mode": {
    "name": "ipython",
    "version": 3
   },
   "file_extension": ".py",
   "mimetype": "text/x-python",
   "name": "python",
   "nbconvert_exporter": "python",
   "pygments_lexer": "ipython3",
   "version": "3.8.2"
  }
 },
 "nbformat": 4,
 "nbformat_minor": 4
}
